{
  "nbformat": 4,
  "nbformat_minor": 0,
  "metadata": {
    "colab": {
      "provenance": [],
      "include_colab_link": true
    },
    "kernelspec": {
      "name": "python3",
      "display_name": "Python 3"
    },
    "language_info": {
      "name": "python"
    }
  },
  "cells": [
    {
      "cell_type": "markdown",
      "metadata": {
        "id": "view-in-github",
        "colab_type": "text"
      },
      "source": [
        "<a href=\"https://colab.research.google.com/github/hlshao/1132_class/blob/main/sampleCode.ipynb\" target=\"_parent\"><img src=\"https://colab.research.google.com/assets/colab-badge.svg\" alt=\"Open In Colab\"/></a>"
      ]
    },
    {
      "cell_type": "markdown",
      "source": [
        "## 加上自己學號: 12345"
      ],
      "metadata": {
        "id": "4hFe8mr-jIPj"
      }
    },
    {
      "cell_type": "markdown",
      "source": [
        "# Set up the Notebook"
      ],
      "metadata": {
        "id": "IVwbll6nkNbm"
      }
    },
    {
      "cell_type": "code",
      "execution_count": 1,
      "metadata": {
        "id": "92p_6sLee2aj",
        "colab": {
          "base_uri": "https://localhost:8080/",
          "height": 356
        },
        "outputId": "9f4c3794-5f8d-468d-8924-b5b7974601b7"
      },
      "outputs": [
        {
          "output_type": "error",
          "ename": "KeyboardInterrupt",
          "evalue": "",
          "traceback": [
            "\u001b[0;31m---------------------------------------------------------------------------\u001b[0m",
            "\u001b[0;31mKeyboardInterrupt\u001b[0m                         Traceback (most recent call last)",
            "\u001b[0;32m<ipython-input-1-7a70ae9040e5>\u001b[0m in \u001b[0;36m<cell line: 0>\u001b[0;34m()\u001b[0m\n\u001b[1;32m     19\u001b[0m \u001b[0;34m\u001b[0m\u001b[0m\n\u001b[1;32m     20\u001b[0m \u001b[0;31m#plotly\u001b[0m\u001b[0;34m\u001b[0m\u001b[0;34m\u001b[0m\u001b[0m\n\u001b[0;32m---> 21\u001b[0;31m \u001b[0;32mimport\u001b[0m \u001b[0mplotly\u001b[0m\u001b[0;34m.\u001b[0m\u001b[0mexpress\u001b[0m \u001b[0;32mas\u001b[0m \u001b[0mpx\u001b[0m\u001b[0;34m\u001b[0m\u001b[0;34m\u001b[0m\u001b[0m\n\u001b[0m\u001b[1;32m     22\u001b[0m \u001b[0;32mimport\u001b[0m \u001b[0mplotly\u001b[0m\u001b[0;34m.\u001b[0m\u001b[0mgraph_objects\u001b[0m \u001b[0;32mas\u001b[0m \u001b[0mgo\u001b[0m\u001b[0;34m\u001b[0m\u001b[0;34m\u001b[0m\u001b[0m\n\u001b[1;32m     23\u001b[0m \u001b[0;32mimport\u001b[0m \u001b[0mplotly\u001b[0m\u001b[0;34m.\u001b[0m\u001b[0mfigure_factory\u001b[0m \u001b[0;32mas\u001b[0m \u001b[0mff\u001b[0m\u001b[0;34m\u001b[0m\u001b[0;34m\u001b[0m\u001b[0m\n",
            "\u001b[0;32m/usr/local/lib/python3.11/dist-packages/plotly/express/__init__.py\u001b[0m in \u001b[0;36m<module>\u001b[0;34m\u001b[0m\n\u001b[1;32m     12\u001b[0m     )\n\u001b[1;32m     13\u001b[0m \u001b[0;34m\u001b[0m\u001b[0m\n\u001b[0;32m---> 14\u001b[0;31m \u001b[0;32mfrom\u001b[0m \u001b[0;34m.\u001b[0m\u001b[0m_imshow\u001b[0m \u001b[0;32mimport\u001b[0m \u001b[0mimshow\u001b[0m\u001b[0;34m\u001b[0m\u001b[0;34m\u001b[0m\u001b[0m\n\u001b[0m\u001b[1;32m     15\u001b[0m from ._chart_types import (  # noqa: F401\n\u001b[1;32m     16\u001b[0m     \u001b[0mscatter\u001b[0m\u001b[0;34m,\u001b[0m\u001b[0;34m\u001b[0m\u001b[0;34m\u001b[0m\u001b[0m\n",
            "\u001b[0;32m/usr/local/lib/python3.11/dist-packages/plotly/express/_imshow.py\u001b[0m in \u001b[0;36m<module>\u001b[0;34m\u001b[0m\n\u001b[1;32m      9\u001b[0m \u001b[0;34m\u001b[0m\u001b[0m\n\u001b[1;32m     10\u001b[0m \u001b[0;32mtry\u001b[0m\u001b[0;34m:\u001b[0m\u001b[0;34m\u001b[0m\u001b[0;34m\u001b[0m\u001b[0m\n\u001b[0;32m---> 11\u001b[0;31m     \u001b[0;32mimport\u001b[0m \u001b[0mxarray\u001b[0m\u001b[0;34m\u001b[0m\u001b[0;34m\u001b[0m\u001b[0m\n\u001b[0m\u001b[1;32m     12\u001b[0m \u001b[0;34m\u001b[0m\u001b[0m\n\u001b[1;32m     13\u001b[0m     \u001b[0mxarray_imported\u001b[0m \u001b[0;34m=\u001b[0m \u001b[0;32mTrue\u001b[0m\u001b[0;34m\u001b[0m\u001b[0;34m\u001b[0m\u001b[0m\n",
            "\u001b[0;32m/usr/local/lib/python3.11/dist-packages/xarray/__init__.py\u001b[0m in \u001b[0;36m<module>\u001b[0;34m\u001b[0m\n\u001b[1;32m      1\u001b[0m \u001b[0;32mfrom\u001b[0m \u001b[0mimportlib\u001b[0m\u001b[0;34m.\u001b[0m\u001b[0mmetadata\u001b[0m \u001b[0;32mimport\u001b[0m \u001b[0mversion\u001b[0m \u001b[0;32mas\u001b[0m \u001b[0m_version\u001b[0m\u001b[0;34m\u001b[0m\u001b[0;34m\u001b[0m\u001b[0m\n\u001b[1;32m      2\u001b[0m \u001b[0;34m\u001b[0m\u001b[0m\n\u001b[0;32m----> 3\u001b[0;31m \u001b[0;32mfrom\u001b[0m \u001b[0mxarray\u001b[0m \u001b[0;32mimport\u001b[0m \u001b[0mcoders\u001b[0m\u001b[0;34m,\u001b[0m \u001b[0mgroupers\u001b[0m\u001b[0;34m,\u001b[0m \u001b[0mtesting\u001b[0m\u001b[0;34m,\u001b[0m \u001b[0mtutorial\u001b[0m\u001b[0;34m,\u001b[0m \u001b[0mufuncs\u001b[0m\u001b[0;34m\u001b[0m\u001b[0;34m\u001b[0m\u001b[0m\n\u001b[0m\u001b[1;32m      4\u001b[0m from xarray.backends.api import (\n\u001b[1;32m      5\u001b[0m     \u001b[0mload_dataarray\u001b[0m\u001b[0;34m,\u001b[0m\u001b[0;34m\u001b[0m\u001b[0;34m\u001b[0m\u001b[0m\n",
            "\u001b[0;32m/usr/local/lib/python3.11/dist-packages/xarray/tutorial.py\u001b[0m in \u001b[0;36m<module>\u001b[0;34m\u001b[0m\n\u001b[1;32m     16\u001b[0m \u001b[0;32mimport\u001b[0m \u001b[0mnumpy\u001b[0m \u001b[0;32mas\u001b[0m \u001b[0mnp\u001b[0m\u001b[0;34m\u001b[0m\u001b[0;34m\u001b[0m\u001b[0m\n\u001b[1;32m     17\u001b[0m \u001b[0;34m\u001b[0m\u001b[0m\n\u001b[0;32m---> 18\u001b[0;31m \u001b[0;32mfrom\u001b[0m \u001b[0mxarray\u001b[0m\u001b[0;34m.\u001b[0m\u001b[0mbackends\u001b[0m\u001b[0;34m.\u001b[0m\u001b[0mapi\u001b[0m \u001b[0;32mimport\u001b[0m \u001b[0mopen_dataset\u001b[0m \u001b[0;32mas\u001b[0m \u001b[0m_open_dataset\u001b[0m\u001b[0;34m\u001b[0m\u001b[0;34m\u001b[0m\u001b[0m\n\u001b[0m\u001b[1;32m     19\u001b[0m \u001b[0;32mfrom\u001b[0m \u001b[0mxarray\u001b[0m\u001b[0;34m.\u001b[0m\u001b[0mcore\u001b[0m\u001b[0;34m.\u001b[0m\u001b[0mdataarray\u001b[0m \u001b[0;32mimport\u001b[0m \u001b[0mDataArray\u001b[0m\u001b[0;34m\u001b[0m\u001b[0;34m\u001b[0m\u001b[0m\n\u001b[1;32m     20\u001b[0m \u001b[0;32mfrom\u001b[0m \u001b[0mxarray\u001b[0m\u001b[0;34m.\u001b[0m\u001b[0mcore\u001b[0m\u001b[0;34m.\u001b[0m\u001b[0mdataset\u001b[0m \u001b[0;32mimport\u001b[0m \u001b[0mDataset\u001b[0m\u001b[0;34m\u001b[0m\u001b[0;34m\u001b[0m\u001b[0m\n",
            "\u001b[0;32m/usr/local/lib/python3.11/dist-packages/xarray/backends/__init__.py\u001b[0m in \u001b[0;36m<module>\u001b[0;34m\u001b[0m\n\u001b[1;32m     11\u001b[0m     \u001b[0mFileManager\u001b[0m\u001b[0;34m,\u001b[0m\u001b[0;34m\u001b[0m\u001b[0;34m\u001b[0m\u001b[0m\n\u001b[1;32m     12\u001b[0m )\n\u001b[0;32m---> 13\u001b[0;31m \u001b[0;32mfrom\u001b[0m \u001b[0mxarray\u001b[0m\u001b[0;34m.\u001b[0m\u001b[0mbackends\u001b[0m\u001b[0;34m.\u001b[0m\u001b[0mh5netcdf_\u001b[0m \u001b[0;32mimport\u001b[0m \u001b[0mH5netcdfBackendEntrypoint\u001b[0m\u001b[0;34m,\u001b[0m \u001b[0mH5NetCDFStore\u001b[0m\u001b[0;34m\u001b[0m\u001b[0;34m\u001b[0m\u001b[0m\n\u001b[0m\u001b[1;32m     14\u001b[0m \u001b[0;32mfrom\u001b[0m \u001b[0mxarray\u001b[0m\u001b[0;34m.\u001b[0m\u001b[0mbackends\u001b[0m\u001b[0;34m.\u001b[0m\u001b[0mmemory\u001b[0m \u001b[0;32mimport\u001b[0m \u001b[0mInMemoryDataStore\u001b[0m\u001b[0;34m\u001b[0m\u001b[0;34m\u001b[0m\u001b[0m\n\u001b[1;32m     15\u001b[0m \u001b[0;32mfrom\u001b[0m \u001b[0mxarray\u001b[0m\u001b[0;34m.\u001b[0m\u001b[0mbackends\u001b[0m\u001b[0;34m.\u001b[0m\u001b[0mnetCDF4_\u001b[0m \u001b[0;32mimport\u001b[0m \u001b[0mNetCDF4BackendEntrypoint\u001b[0m\u001b[0;34m,\u001b[0m \u001b[0mNetCDF4DataStore\u001b[0m\u001b[0;34m\u001b[0m\u001b[0;34m\u001b[0m\u001b[0m\n",
            "\u001b[0;32m/usr/local/lib/python3.11/dist-packages/xarray/backends/h5netcdf_.py\u001b[0m in \u001b[0;36m<module>\u001b[0;34m\u001b[0m\n\u001b[1;32m     20\u001b[0m \u001b[0;32mfrom\u001b[0m \u001b[0mxarray\u001b[0m\u001b[0;34m.\u001b[0m\u001b[0mbackends\u001b[0m\u001b[0;34m.\u001b[0m\u001b[0mfile_manager\u001b[0m \u001b[0;32mimport\u001b[0m \u001b[0mCachingFileManager\u001b[0m\u001b[0;34m,\u001b[0m \u001b[0mDummyFileManager\u001b[0m\u001b[0;34m\u001b[0m\u001b[0;34m\u001b[0m\u001b[0m\n\u001b[1;32m     21\u001b[0m \u001b[0;32mfrom\u001b[0m \u001b[0mxarray\u001b[0m\u001b[0;34m.\u001b[0m\u001b[0mbackends\u001b[0m\u001b[0;34m.\u001b[0m\u001b[0mlocks\u001b[0m \u001b[0;32mimport\u001b[0m \u001b[0mHDF5_LOCK\u001b[0m\u001b[0;34m,\u001b[0m \u001b[0mcombine_locks\u001b[0m\u001b[0;34m,\u001b[0m \u001b[0mensure_lock\u001b[0m\u001b[0;34m,\u001b[0m \u001b[0mget_write_lock\u001b[0m\u001b[0;34m\u001b[0m\u001b[0;34m\u001b[0m\u001b[0m\n\u001b[0;32m---> 22\u001b[0;31m from xarray.backends.netCDF4_ import (\n\u001b[0m\u001b[1;32m     23\u001b[0m     \u001b[0mBaseNetCDF4Array\u001b[0m\u001b[0;34m,\u001b[0m\u001b[0;34m\u001b[0m\u001b[0;34m\u001b[0m\u001b[0m\n\u001b[1;32m     24\u001b[0m     \u001b[0m_build_and_get_enum\u001b[0m\u001b[0;34m,\u001b[0m\u001b[0;34m\u001b[0m\u001b[0;34m\u001b[0m\u001b[0m\n",
            "\u001b[0;31mKeyboardInterrupt\u001b[0m: "
          ]
        }
      ],
      "source": [
        "#import pandas and numpy\n",
        "import pandas as pd\n",
        "import numpy as np\n",
        "\n",
        "#PCA\n",
        "from sklearn.decomposition import PCA\n",
        "\n",
        "#import standard classification tools from sklearn\n",
        "from sklearn.metrics import classification_report, confusion_matrix, accuracy_score\n",
        "from sklearn.ensemble import RandomForestClassifier\n",
        "import itertools\n",
        "\n",
        "#classification model\n",
        "from sklearn.model_selection import train_test_split\n",
        "\n",
        "#visualization\n",
        "import matplotlib.pyplot as plt\n",
        "import seaborn as sns\n",
        "\n",
        "#plotly\n",
        "import plotly.express as px\n",
        "import plotly.graph_objects as go\n",
        "import plotly.figure_factory as ff\n",
        "\n",
        "template = 'ggplot2'"
      ]
    },
    {
      "cell_type": "markdown",
      "metadata": {
        "id": "GQbInpuWiSqQ"
      },
      "source": [
        "# Import and Prepare Data"
      ]
    },
    {
      "cell_type": "code",
      "execution_count": null,
      "metadata": {
        "id": "GU12oxNkh87a"
      },
      "outputs": [],
      "source": [
        "#load data\n",
        "data = pd.read_table('https://raw.githubusercontent.com/PineBiotech/omicslogic/master/CellLines_52samples_ExprData_T1.txt',sep='\\t',header=(0))\n",
        "features = data.iloc[1:, 0].values\n",
        "\n",
        "#add the gene id to index column\n",
        "data.index = data.id\n",
        "\n",
        "#drop or remove \"id\" column from the data\n",
        "data=data.drop(['id'], axis = 1)\n",
        "\n",
        "#transpose\n",
        "dataT = np.transpose(data)\n",
        "\n",
        "#prepare train and test data\n",
        "X = dataT.iloc[:, 1:].values\n",
        "y = dataT.iloc[:, 0].values\n",
        "\n",
        "#save class names\n",
        "classes = np.unique(y)\n",
        "n_classes = len(classes)\n",
        "cat = dataT['class']\n",
        "\n",
        "#prepare train and test data (try changing test_size, enable/disable stratification)\n",
        "X_train, X_test, y_train, y_test = train_test_split(\n",
        "    X, y, test_size=0.4, random_state=0, stratify = y)\n",
        "\n",
        "#print out test class proportion from total\n",
        "for i in range(len(classes)):\n",
        "  print(classes[i], y_test.tolist().count(classes[i]), \"/\", y.tolist().count(classes[i]))"
      ]
    },
    {
      "cell_type": "code",
      "source": [
        "dataT = dataT.drop(columns=['class'])\n",
        "dataT.head()"
      ],
      "metadata": {
        "id": "hGny4D7k8CMA"
      },
      "execution_count": null,
      "outputs": []
    },
    {
      "cell_type": "code",
      "source": [
        "#Run Principal Component Analysis\n",
        "pca = PCA(n_components=3)\n",
        "\n",
        "pca.fit(dataT)\n",
        "xpca = pca.transform(dataT)\n",
        "\n",
        "PC1_label = \"PC1 {}%\".format(round((100*pca.explained_variance_ratio_[0]),2))\n",
        "PC2_label = \"PC2 {}%\".format(round((100*pca.explained_variance_ratio_[1]),2))\n",
        "PC3_label = \"PC3 {}%\".format(round((100*pca.explained_variance_ratio_[2]),2))\n",
        "\n",
        "#create dataframe for PCA\n",
        "df_pca = pd.DataFrame(xpca)\n",
        "df_pca.columns = [PC1_label,PC2_label,PC3_label]\n",
        "\n",
        "#visualize\n",
        "figPCA = px.scatter_3d(df_pca, x=PC1_label, y=PC2_label, z=PC3_label,\n",
        "                       title=\"PCA 3D plot, colored by Class\", color=cat,\n",
        "                       template=\"plotly_white\", height=800, width=800)\n",
        "figPCA.show()"
      ],
      "metadata": {
        "id": "f5X-3lhgv4Rg"
      },
      "execution_count": null,
      "outputs": []
    },
    {
      "cell_type": "code",
      "source": [
        "from IPython.display import Image\n",
        "\n",
        "img_bytes = figPCA.to_image(format=\"png\", width=800, height=800, scale=1)\n",
        "Image(img_bytes)"
      ],
      "metadata": {
        "id": "4KDJyEbkzV1Y"
      },
      "execution_count": null,
      "outputs": []
    },
    {
      "cell_type": "markdown",
      "metadata": {
        "id": "3_rKAZYGidTE"
      },
      "source": [
        "# Random Forest"
      ]
    },
    {
      "cell_type": "code",
      "source": [
        "#define Random forest model\n",
        "model = RandomForestClassifier(n_estimators = 100,\n",
        "                               max_depth = 500,\n",
        "                               verbose=False,\n",
        "                               random_state=0)\n",
        "\n",
        "#fit model on training data\n",
        "model.fit(X_train, y_train)\n",
        "\n",
        "#Predict test data\n",
        "predictions = model.predict(X_test)\n",
        "print(\"Model accuracy = \", accuracy_score(y_test, predictions))"
      ],
      "metadata": {
        "id": "dZ0ueY3P8ypi"
      },
      "execution_count": null,
      "outputs": []
    },
    {
      "cell_type": "code",
      "execution_count": null,
      "metadata": {
        "id": "_zrpiYOeiDsm"
      },
      "outputs": [],
      "source": [
        "#define Random forest model\n",
        "model = RandomForestClassifier(n_estimators = 1000,\n",
        "                               max_depth = 5000,\n",
        "                               bootstrap=True,\n",
        "                               verbose=False,\n",
        "                               random_state=0)\n",
        "\n",
        "#fit model on training data\n",
        "model.fit(X_train, y_train)\n",
        "\n",
        "#Predict test data\n",
        "predictions = model.predict(X_test)\n",
        "print(\"Model accuracy = \", accuracy_score(y_test, predictions))"
      ]
    },
    {
      "cell_type": "markdown",
      "metadata": {
        "id": "6WJCmHqGlLMg"
      },
      "source": [
        "## Confusion Matrix"
      ]
    },
    {
      "cell_type": "code",
      "execution_count": null,
      "metadata": {
        "id": "XuyFGwJeiJjk"
      },
      "outputs": [],
      "source": [
        "#prepare a confusion matrix\n",
        "conf = confusion_matrix(y_test,predictions)\n",
        "new_conf = pd.DataFrame(conf, columns=classes, index=classes)\n",
        "\n",
        "#plot heatmap of confusion matrix\n",
        "fig, ax = plt.subplots(figsize=(13, 10))\n",
        "sns.heatmap(new_conf, annot=True);"
      ]
    },
    {
      "cell_type": "markdown",
      "metadata": {
        "id": "pKZn0EpcqBw_"
      },
      "source": [
        "##Feature Importance"
      ]
    },
    {
      "cell_type": "code",
      "execution_count": null,
      "metadata": {
        "id": "snqQvY2oqGpD"
      },
      "outputs": [],
      "source": [
        "#prepare the list of significant features\n",
        "importances = model.feature_importances_\n",
        "std = np.std([tree.feature_importances_ for tree in model.estimators_], axis=0)\n",
        "\n",
        "#select top features and save them\n",
        "forest_importances = pd.Series(importances, index=features)\n",
        "forest_importances = forest_importances[forest_importances > 0.0025]\n",
        "forest_importances = forest_importances.sort_values()\n",
        "\n",
        "#plot forest_importances\n",
        "forest_importances.plot.bar(figsize=(15, 7), title=\"top features by RF gini\");\n",
        "\n",
        "#print\n",
        "print(\"total number of selected features: \", len(forest_importances))"
      ]
    },
    {
      "cell_type": "markdown",
      "metadata": {
        "id": "4T7Qg4OqlOhC"
      },
      "source": [
        "# PCA\n"
      ]
    },
    {
      "cell_type": "code",
      "execution_count": null,
      "metadata": {
        "id": "iSrBUqInlv0k"
      },
      "outputs": [],
      "source": [
        "selected_features = forest_importances.index.tolist()\n",
        "\n",
        "dataT1 = dataT[dataT.columns.intersection(selected_features)]\n",
        "print(\"new dimensions of select features: \", dataT1.shape)\n",
        "\n",
        "#Run Principal Component Analysis\n",
        "pca = PCA(n_components=3)\n",
        "pca.fit(dataT1)\n",
        "xpca = pca.transform(dataT1)\n",
        "\n",
        "PC1_label = \"PC1 {}%\".format(round((100*pca.explained_variance_ratio_[0]),2))\n",
        "PC2_label = \"PC2 {}%\".format(round((100*pca.explained_variance_ratio_[1]),2))\n",
        "PC3_label = \"PC3 {}%\".format(round((100*pca.explained_variance_ratio_[2]),2))\n",
        "\n",
        "#create dataframe for PCA\n",
        "df_pca = pd.DataFrame(xpca)\n",
        "df_pca.columns = [PC1_label,PC2_label,PC3_label]\n",
        "\n",
        "#visualize\n",
        "figPCA = px.scatter_3d(df_pca, x=PC1_label, y=PC2_label, z=PC3_label,\n",
        "                       title=\"PCA 3D plot, colored by Class\", color=cat,\n",
        "                       template=\"plotly_white\", height=600, width=800)\n",
        "figPCA.show()"
      ]
    },
    {
      "cell_type": "code",
      "source": [
        "img_bytes = figPCA.to_image(format=\"png\", width=800, height=800, scale=1)\n",
        "Image(img_bytes)"
      ],
      "metadata": {
        "id": "F-iClPAQ0jav"
      },
      "execution_count": null,
      "outputs": []
    },
    {
      "cell_type": "markdown",
      "source": [
        "# Questions for Reflection:\n",
        "How did hyperparameters change accuracy of the model?\n",
        "How many significant genes did we use for PCA?\n",
        "How did the 'variance explained' of the PCA improve after feature selection?"
      ],
      "metadata": {
        "id": "YoQVBVoF9Z8s"
      }
    }
  ]
}